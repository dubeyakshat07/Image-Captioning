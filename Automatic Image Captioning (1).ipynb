{
 "cells": [
  {
   "cell_type": "code",
   "execution_count": 1,
   "metadata": {},
   "outputs": [
    {
     "name": "stderr",
     "output_type": "stream",
     "text": [
      "Using TensorFlow backend.\n"
     ]
    }
   ],
   "source": [
    "import numpy as np\n",
    "from numpy import array\n",
    "import pandas as pd\n",
    "import matplotlib.pyplot as plt\n",
    "%matplotlib inline\n",
    "import string\n",
    "import os\n",
    "from PIL import Image\n",
    "import glob\n",
    "from pickle import dump, load\n",
    "from time import time\n",
    "from keras.preprocessing import sequence\n",
    "from keras.models import Sequential\n",
    "from keras.layers import LSTM, Embedding, TimeDistributed, Dense, RepeatVector,\\\n",
    "                         Activation, Flatten, Reshape, concatenate, Dropout, BatchNormalization\n",
    "from keras.optimizers import Adam, RMSprop\n",
    "from keras.layers.wrappers import Bidirectional\n",
    "from keras.layers.merge import add\n",
    "from keras.applications.inception_v3 import InceptionV3\n",
    "from keras.preprocessing import image\n",
    "from keras.models import Model\n",
    "from keras import Input, layers\n",
    "from keras import optimizers\n",
    "from keras.applications.inception_v3 import preprocess_input\n",
    "from keras.preprocessing.text import Tokenizer\n",
    "from keras.preprocessing.sequence import pad_sequences\n",
    "from keras.utils import to_categorical"
   ]
  },
  {
   "cell_type": "code",
   "execution_count": 2,
   "metadata": {},
   "outputs": [
    {
     "data": {
      "text/plain": [
       "<module 'tensorflow_core._api.v2.version' from 'C:\\\\Users\\\\Akshat.Dubey.000\\\\Anaconda3\\\\lib\\\\site-packages\\\\tensorflow_core\\\\_api\\\\v2\\\\version\\\\__init__.py'>"
      ]
     },
     "execution_count": 2,
     "metadata": {},
     "output_type": "execute_result"
    }
   ],
   "source": [
    "import tensorflow as tf\n",
    "tf.version"
   ]
  },
  {
   "cell_type": "code",
   "execution_count": 3,
   "metadata": {},
   "outputs": [
    {
     "data": {
      "text/plain": [
       "True"
      ]
     },
     "execution_count": 3,
     "metadata": {},
     "output_type": "execute_result"
    }
   ],
   "source": [
    "tf.test.is_built_with_cuda()"
   ]
  },
  {
   "cell_type": "code",
   "execution_count": 4,
   "metadata": {},
   "outputs": [
    {
     "data": {
      "text/plain": [
       "True"
      ]
     },
     "execution_count": 4,
     "metadata": {},
     "output_type": "execute_result"
    }
   ],
   "source": [
    "tf.test.is_gpu_available(cuda_only=False, min_cuda_compute_capability=None)\n"
   ]
  },
  {
   "cell_type": "code",
   "execution_count": 5,
   "metadata": {},
   "outputs": [
    {
     "name": "stdout",
     "output_type": "stream",
     "text": [
      "1000268201_693b08cb0e.jpg#0\tA child in a pink dress is climbing up a set of stairs in an entry way .\n",
      "1000268201_693b08cb0e.jpg#1\tA girl going into a wooden building .\n",
      "1000268201_693b08cb0e.jpg#2\tA little girl climbing into a wooden playhouse .\n",
      "1000268201_693b08cb0e.jpg#3\tA little girl climbing the s\n"
     ]
    }
   ],
   "source": [
    "# load doc into memory\n",
    "def load_doc(filename):\n",
    "\t# open the file as read only\n",
    "\tfile = open(filename, 'r')\n",
    "\t# read all text\n",
    "\ttext = file.read()\n",
    "\t# close the file\n",
    "\tfile.close()\n",
    "\treturn text\n",
    "\n",
    "filename = \"Flickr8k_text/Flickr8k.token.txt\"\n",
    "# load descriptions\n",
    "doc = load_doc(filename)\n",
    "print(doc[:300])"
   ]
  },
  {
   "cell_type": "code",
   "execution_count": 6,
   "metadata": {},
   "outputs": [
    {
     "name": "stdout",
     "output_type": "stream",
     "text": [
      "Loaded: 8092 \n"
     ]
    }
   ],
   "source": [
    "def load_descriptions(doc):\n",
    "\tmapping = dict()\n",
    "\t# process lines\n",
    "\tfor line in doc.split('\\n'):\n",
    "\t     # split line by white space\n",
    "\t\ttokens = line.split()\n",
    "\t\tif len(line) < 2:\n",
    "\t\t\tcontinue\n",
    "\t\t# take the first token as the image id, the rest as the description\n",
    "\t\timage_id, image_desc = tokens[0], tokens[1:]\n",
    "\t\t# extract filename from image id\n",
    "\t\timage_id = image_id.split('.')[0]\n",
    "\t\t# convert description tokens back to string\n",
    "\t\timage_desc = ' '.join(image_desc)\n",
    "\t\t# create the list if needed\n",
    "\t\tif image_id not in mapping:\n",
    "\t\t\tmapping[image_id] = list()\n",
    "\t\t# store description\n",
    "\t\tmapping[image_id].append(image_desc)\n",
    "\treturn mapping\n",
    "\n",
    "# parse descriptions\n",
    "descriptions = load_descriptions(doc)\n",
    "print('Loaded: %d ' % len(descriptions))"
   ]
  },
  {
   "cell_type": "code",
   "execution_count": 7,
   "metadata": {},
   "outputs": [
    {
     "data": {
      "text/plain": [
       "['1000268201_693b08cb0e',\n",
       " '1001773457_577c3a7d70',\n",
       " '1002674143_1b742ab4b8',\n",
       " '1003163366_44323f5815',\n",
       " '1007129816_e794419615']"
      ]
     },
     "execution_count": 7,
     "metadata": {},
     "output_type": "execute_result"
    }
   ],
   "source": [
    "list(descriptions.keys())[:5]"
   ]
  },
  {
   "cell_type": "code",
   "execution_count": 8,
   "metadata": {},
   "outputs": [
    {
     "data": {
      "text/plain": [
       "['A child in a pink dress is climbing up a set of stairs in an entry way .',\n",
       " 'A girl going into a wooden building .',\n",
       " 'A little girl climbing into a wooden playhouse .',\n",
       " 'A little girl climbing the stairs to her playhouse .',\n",
       " 'A little girl in a pink dress going into a wooden cabin .']"
      ]
     },
     "execution_count": 8,
     "metadata": {},
     "output_type": "execute_result"
    }
   ],
   "source": [
    "descriptions['1000268201_693b08cb0e']"
   ]
  },
  {
   "cell_type": "code",
   "execution_count": 9,
   "metadata": {},
   "outputs": [
    {
     "data": {
      "text/plain": [
       "['A black dog and a spotted dog are fighting',\n",
       " 'A black dog and a tri-colored dog playing with each other on the road .',\n",
       " 'A black dog and a white dog with brown spots are staring at each other in the street .',\n",
       " 'Two dogs of different breeds looking at each other on the road .',\n",
       " 'Two dogs on pavement moving toward each other .']"
      ]
     },
     "execution_count": 9,
     "metadata": {},
     "output_type": "execute_result"
    }
   ],
   "source": [
    "descriptions['1001773457_577c3a7d70']"
   ]
  },
  {
   "cell_type": "code",
   "execution_count": 10,
   "metadata": {},
   "outputs": [],
   "source": [
    "def clean_descriptions(descriptions):\n",
    "\t# prepare translation table for removing punctuation\n",
    "\ttable = str.maketrans('', '', string.punctuation)\n",
    "\tfor key, desc_list in descriptions.items():\n",
    "\t\tfor i in range(len(desc_list)):\n",
    "\t\t\tdesc = desc_list[i]\n",
    "\t\t\t# tokenize\n",
    "\t\t\tdesc = desc.split()\n",
    "\t\t\t# convert to lower case\n",
    "\t\t\tdesc = [word.lower() for word in desc]\n",
    "\t\t\t# remove punctuation from each token\n",
    "\t\t\tdesc = [w.translate(table) for w in desc]\n",
    "\t\t\t# remove hanging 's' and 'a'\n",
    "\t\t\tdesc = [word for word in desc if len(word)>1]\n",
    "\t\t\t# remove tokens with numbers in them\n",
    "\t\t\tdesc = [word for word in desc if word.isalpha()]\n",
    "\t\t\t# store as string\n",
    "\t\t\tdesc_list[i] =  ' '.join(desc)\n",
    "\n",
    "# clean descriptions\n",
    "clean_descriptions(descriptions)"
   ]
  },
  {
   "cell_type": "code",
   "execution_count": 11,
   "metadata": {},
   "outputs": [
    {
     "data": {
      "text/plain": [
       "['child in pink dress is climbing up set of stairs in an entry way',\n",
       " 'girl going into wooden building',\n",
       " 'little girl climbing into wooden playhouse',\n",
       " 'little girl climbing the stairs to her playhouse',\n",
       " 'little girl in pink dress going into wooden cabin']"
      ]
     },
     "execution_count": 11,
     "metadata": {},
     "output_type": "execute_result"
    }
   ],
   "source": [
    "descriptions['1000268201_693b08cb0e']"
   ]
  },
  {
   "cell_type": "code",
   "execution_count": 12,
   "metadata": {},
   "outputs": [
    {
     "data": {
      "text/plain": [
       "['black dog and spotted dog are fighting',\n",
       " 'black dog and tricolored dog playing with each other on the road',\n",
       " 'black dog and white dog with brown spots are staring at each other in the street',\n",
       " 'two dogs of different breeds looking at each other on the road',\n",
       " 'two dogs on pavement moving toward each other']"
      ]
     },
     "execution_count": 12,
     "metadata": {},
     "output_type": "execute_result"
    }
   ],
   "source": [
    "descriptions['1001773457_577c3a7d70']"
   ]
  },
  {
   "cell_type": "code",
   "execution_count": 13,
   "metadata": {},
   "outputs": [
    {
     "name": "stdout",
     "output_type": "stream",
     "text": [
      "Original Vocabulary Size: 8763\n"
     ]
    }
   ],
   "source": [
    "# convert the loaded descriptions into a vocabulary of words\n",
    "def to_vocabulary(descriptions):\n",
    "\t# build a list of all description strings\n",
    "\tall_desc = set()\n",
    "\tfor key in descriptions.keys():\n",
    "\t\t[all_desc.update(d.split()) for d in descriptions[key]]\n",
    "\treturn all_desc\n",
    "\n",
    "# summarize vocabulary\n",
    "vocabulary = to_vocabulary(descriptions)\n",
    "print('Original Vocabulary Size: %d' % len(vocabulary))"
   ]
  },
  {
   "cell_type": "code",
   "execution_count": 14,
   "metadata": {},
   "outputs": [],
   "source": [
    "# save descriptions to file, one per line\n",
    "def save_descriptions(descriptions, filename):\n",
    "\tlines = list()\n",
    "\tfor key, desc_list in descriptions.items():\n",
    "\t\tfor desc in desc_list:\n",
    "\t\t\tlines.append(key + ' ' + desc)\n",
    "\tdata = '\\n'.join(lines)\n",
    "\tfile = open(filename, 'w')\n",
    "\tfile.write(data)\n",
    "\tfile.close()\n",
    "\n",
    "save_descriptions(descriptions, 'descriptions.txt')"
   ]
  },
  {
   "cell_type": "code",
   "execution_count": 15,
   "metadata": {},
   "outputs": [
    {
     "name": "stdout",
     "output_type": "stream",
     "text": [
      "Dataset: 6000\n"
     ]
    }
   ],
   "source": [
    "# load a pre-defined list of photo identifiers\n",
    "def load_set(filename):\n",
    "\tdoc = load_doc(filename)\n",
    "\tdataset = list()\n",
    "\t# process line by line\n",
    "\tfor line in doc.split('\\n'):\n",
    "\t\t# skip empty lines\n",
    "\t\tif len(line) < 1:\n",
    "\t\t\tcontinue\n",
    "\t\t# get the image identifier\n",
    "\t\tidentifier = line.split('.')[0]\n",
    "\t\tdataset.append(identifier)\n",
    "\treturn set(dataset)\n",
    "\n",
    "# load training dataset (6K)\n",
    "filename = 'Flickr8k_text/Flickr_8k.trainImages.txt'\n",
    "train = load_set(filename)\n",
    "print('Dataset: %d' % len(train))"
   ]
  },
  {
   "cell_type": "code",
   "execution_count": 16,
   "metadata": {},
   "outputs": [],
   "source": [
    "# Below path contains all the images\n",
    "images = 'Flickr8k_Dataset/'\n",
    "# Create a list of all image names in the directory\n",
    "img = glob.glob(images + '*.jpg')"
   ]
  },
  {
   "cell_type": "code",
   "execution_count": 17,
   "metadata": {},
   "outputs": [],
   "source": [
    "# Below file conatains the names of images to be used in train data\n",
    "train_images_file = 'Flickr8k_text/Flickr_8k.trainImages.txt'\n",
    "# Read the train image names in a set\n",
    "train_images = set(open(train_images_file, 'r').read().strip().split('\\n'))\n",
    "\n",
    "# Create a list of all the training images with their full path names\n",
    "train_img = []\n",
    "\n",
    "for i in img: # img is list of full path names of all images\n",
    "    if i[len(images):] in train_images: # Check if the image belongs to training set\n",
    "        train_img.append(i) # Add it to the list of train images"
   ]
  },
  {
   "cell_type": "code",
   "execution_count": 18,
   "metadata": {},
   "outputs": [],
   "source": [
    "# Below file conatains the names of images to be used in test data\n",
    "test_images_file = 'Flickr8k_text/Flickr_8k.testImages.txt'\n",
    "# Read the validation image names in a set# Read the test image names in a set\n",
    "test_images = set(open(test_images_file, 'r').read().strip().split('\\n'))\n",
    "\n",
    "# Create a list of all the test images with their full path names\n",
    "test_img = []\n",
    "\n",
    "for i in img: # img is list of full path names of all images\n",
    "    if i[len(images):] in test_images: # Check if the image belongs to test set\n",
    "        test_img.append(i) # Add it to the list of test images"
   ]
  },
  {
   "cell_type": "code",
   "execution_count": 19,
   "metadata": {},
   "outputs": [
    {
     "name": "stdout",
     "output_type": "stream",
     "text": [
      "Descriptions: train=6000\n"
     ]
    }
   ],
   "source": [
    "# load clean descriptions into memory\n",
    "def load_clean_descriptions(filename, dataset):\n",
    "\t# load document\n",
    "\tdoc = load_doc(filename)\n",
    "\tdescriptions = dict()\n",
    "\tfor line in doc.split('\\n'):\n",
    "\t\t# split line by white space\n",
    "\t\ttokens = line.split()\n",
    "\t\t# split id from description\n",
    "\t\timage_id, image_desc = tokens[0], tokens[1:]\n",
    "\t\t# skip images not in the set\n",
    "\t\tif image_id in dataset:\n",
    "\t\t\t# create list\n",
    "\t\t\tif image_id not in descriptions:\n",
    "\t\t\t\tdescriptions[image_id] = list()\n",
    "\t\t\t# wrap description in tokens\n",
    "\t\t\tdesc = 'startseq ' + ' '.join(image_desc) + ' endseq'\n",
    "\t\t\t# store\n",
    "\t\t\tdescriptions[image_id].append(desc)\n",
    "\treturn descriptions\n",
    "\n",
    "# descriptions\n",
    "train_descriptions = load_clean_descriptions('descriptions.txt', train)\n",
    "print('Descriptions: train=%d' % len(train_descriptions))"
   ]
  },
  {
   "cell_type": "code",
   "execution_count": 20,
   "metadata": {},
   "outputs": [],
   "source": [
    "def preprocess(image_path):\n",
    "    # Convert all the images to size 299x299 as expected by the inception v3 model\n",
    "    img = image.load_img(image_path, target_size=(299, 299))\n",
    "    # Convert PIL image to numpy array of 3-dimensions\n",
    "    x = image.img_to_array(img)\n",
    "    # Add one more dimension\n",
    "    x = np.expand_dims(x, axis=0)\n",
    "    # preprocess the images using preprocess_input() from inception module\n",
    "    x = preprocess_input(x)\n",
    "    return x"
   ]
  },
  {
   "cell_type": "code",
   "execution_count": 21,
   "metadata": {},
   "outputs": [],
   "source": [
    "# Load the inception v3 model\n",
    "model = InceptionV3(weights='imagenet')"
   ]
  },
  {
   "cell_type": "code",
   "execution_count": 22,
   "metadata": {},
   "outputs": [],
   "source": [
    "# Create a new model, by removing the last layer (output layer) from the inception v3\n",
    "model_new = Model(model.input, model.layers[-2].output)"
   ]
  },
  {
   "cell_type": "code",
   "execution_count": 23,
   "metadata": {},
   "outputs": [],
   "source": [
    "# Function to encode a given image into a vector of size (2048, )\n",
    "def encode(image):\n",
    "    image = preprocess(image) # preprocess the image\n",
    "    fea_vec = model_new.predict(image) # Get the encoding vector for the image\n",
    "    fea_vec = np.reshape(fea_vec, fea_vec.shape[1]) # reshape from (1, 2048) to (2048, )\n",
    "    return fea_vec"
   ]
  },
  {
   "cell_type": "code",
   "execution_count": 24,
   "metadata": {},
   "outputs": [
    {
     "name": "stdout",
     "output_type": "stream",
     "text": [
      "Time taken in seconds = 758.7651522159576\n"
     ]
    }
   ],
   "source": [
    "# Call the funtion to encode all the train images\n",
    "# This will take a while on CPU - Execute this only once\n",
    "start = time()\n",
    "encoding_train = {}\n",
    "for img in train_img:\n",
    "    encoding_train[img[len(images):]] = encode(img)\n",
    "print(\"Time taken in seconds =\", time()-start)"
   ]
  },
  {
   "cell_type": "code",
   "execution_count": 25,
   "metadata": {},
   "outputs": [],
   "source": [
    "import pickle"
   ]
  },
  {
   "cell_type": "code",
   "execution_count": 26,
   "metadata": {},
   "outputs": [],
   "source": [
    "# Save the bottleneck train features to disk\n",
    "with open(\"Pickle/encoded_train_images.pkl\", \"wb\") as encoded_pickle:\n",
    "    pickle.dump(encoding_train, encoded_pickle)"
   ]
  },
  {
   "cell_type": "code",
   "execution_count": 27,
   "metadata": {},
   "outputs": [
    {
     "name": "stdout",
     "output_type": "stream",
     "text": [
      "Time taken in seconds = 127.80319857597351\n"
     ]
    }
   ],
   "source": [
    "# Call the funtion to encode all the test images - Execute this only once\n",
    "start = time()\n",
    "encoding_test = {}\n",
    "for img in test_img:\n",
    "    encoding_test[img[len(images):]] = encode(img)\n",
    "print(\"Time taken in seconds =\", time()-start)"
   ]
  },
  {
   "cell_type": "code",
   "execution_count": 28,
   "metadata": {},
   "outputs": [],
   "source": [
    "# Save the bottleneck test features to disk\n",
    "with open(\"Pickle/encoded_test_images.pkl\", \"wb\") as encoded_pickle:\n",
    "    pickle.dump(encoding_test, encoded_pickle)"
   ]
  },
  {
   "cell_type": "code",
   "execution_count": 29,
   "metadata": {},
   "outputs": [
    {
     "name": "stdout",
     "output_type": "stream",
     "text": [
      "Photos: train=6000\n"
     ]
    }
   ],
   "source": [
    "train_features = load(open(\"Pickle/encoded_train_images.pkl\", \"rb\"))\n",
    "print('Photos: train=%d' % len(train_features))"
   ]
  },
  {
   "cell_type": "code",
   "execution_count": 30,
   "metadata": {},
   "outputs": [
    {
     "data": {
      "text/plain": [
       "30000"
      ]
     },
     "execution_count": 30,
     "metadata": {},
     "output_type": "execute_result"
    }
   ],
   "source": [
    "# Create a list of all the training captions\n",
    "all_train_captions = []\n",
    "for key, val in train_descriptions.items():\n",
    "    for cap in val:\n",
    "        all_train_captions.append(cap)\n",
    "len(all_train_captions)"
   ]
  },
  {
   "cell_type": "code",
   "execution_count": 31,
   "metadata": {},
   "outputs": [
    {
     "name": "stdout",
     "output_type": "stream",
     "text": [
      "preprocessed words 7578 -> 1651\n"
     ]
    }
   ],
   "source": [
    "# Consider only words which occur at least 10 times in the corpus\n",
    "word_count_threshold = 10\n",
    "word_counts = {}\n",
    "nsents = 0\n",
    "for sent in all_train_captions:\n",
    "    nsents += 1\n",
    "    for w in sent.split(' '):\n",
    "        word_counts[w] = word_counts.get(w, 0) + 1\n",
    "\n",
    "vocab = [w for w in word_counts if word_counts[w] >= word_count_threshold]\n",
    "print('preprocessed words %d -> %d' % (len(word_counts), len(vocab)))"
   ]
  },
  {
   "cell_type": "code",
   "execution_count": 32,
   "metadata": {},
   "outputs": [],
   "source": [
    "ixtoword = {}\n",
    "wordtoix = {}\n",
    "\n",
    "ix = 1\n",
    "for w in vocab:\n",
    "    wordtoix[w] = ix\n",
    "    ixtoword[ix] = w\n",
    "    ix += 1"
   ]
  },
  {
   "cell_type": "code",
   "execution_count": 33,
   "metadata": {},
   "outputs": [
    {
     "data": {
      "text/plain": [
       "1652"
      ]
     },
     "execution_count": 33,
     "metadata": {},
     "output_type": "execute_result"
    }
   ],
   "source": [
    "vocab_size = len(ixtoword) + 1 # one for appended 0's\n",
    "vocab_size"
   ]
  },
  {
   "cell_type": "code",
   "execution_count": 34,
   "metadata": {},
   "outputs": [
    {
     "name": "stdout",
     "output_type": "stream",
     "text": [
      "Description Length: 34\n"
     ]
    }
   ],
   "source": [
    "# convert a dictionary of clean descriptions to a list of descriptions\n",
    "def to_lines(descriptions):\n",
    "\tall_desc = list()\n",
    "\tfor key in descriptions.keys():\n",
    "\t\t[all_desc.append(d) for d in descriptions[key]]\n",
    "\treturn all_desc\n",
    "\n",
    "# calculate the length of the description with the most words\n",
    "def max_length(descriptions):\n",
    "\tlines = to_lines(descriptions)\n",
    "\treturn max(len(d.split()) for d in lines)\n",
    "\n",
    "# determine the maximum sequence length\n",
    "max_length = max_length(train_descriptions)\n",
    "print('Description Length: %d' % max_length)"
   ]
  },
  {
   "cell_type": "code",
   "execution_count": 35,
   "metadata": {},
   "outputs": [],
   "source": [
    "# data generator, intended to be used in a call to model.fit_generator()\n",
    "def data_generator(descriptions, photos, wordtoix, max_length, num_photos_per_batch):\n",
    "    X1, X2, y = list(), list(), list()\n",
    "    n=0\n",
    "    # loop for ever over images\n",
    "    while 1:\n",
    "        for key, desc_list in descriptions.items():\n",
    "            n+=1\n",
    "            # retrieve the photo feature\n",
    "            photo = photos[key+'.jpg']\n",
    "            for desc in desc_list:\n",
    "                # encode the sequence\n",
    "                seq = [wordtoix[word] for word in desc.split(' ') if word in wordtoix]\n",
    "                # split one sequence into multiple X, y pairs\n",
    "                for i in range(1, len(seq)):\n",
    "                    # split into input and output pair\n",
    "                    in_seq, out_seq = seq[:i], seq[i]\n",
    "                    # pad input sequence\n",
    "                    in_seq = pad_sequences([in_seq], maxlen=max_length)[0]\n",
    "                    # encode output sequence\n",
    "                    out_seq = to_categorical([out_seq], num_classes=vocab_size)[0]\n",
    "                    # store\n",
    "                    X1.append(photo)\n",
    "                    X2.append(in_seq)\n",
    "                    y.append(out_seq)\n",
    "            # yield the batch data\n",
    "            if n==num_photos_per_batch:\n",
    "                yield [[array(X1), array(X2)], array(y)]\n",
    "                X1, X2, y = list(), list(), list()\n",
    "                n=0"
   ]
  },
  {
   "cell_type": "code",
   "execution_count": 36,
   "metadata": {},
   "outputs": [
    {
     "name": "stdout",
     "output_type": "stream",
     "text": [
      "Found 400000 word vectors.\n"
     ]
    }
   ],
   "source": [
    "# Load Glove vectors\n",
    "glove_dir = 'glove.6B.200d.txt'\n",
    "embeddings_index = {} # empty dictionary\n",
    "f = open(glove_dir, encoding=\"utf-8\")\n",
    "\n",
    "for line in f:\n",
    "    values = line.split()\n",
    "    word = values[0]\n",
    "    coefs = np.asarray(values[1:], dtype='float32')\n",
    "    embeddings_index[word] = coefs\n",
    "f.close()\n",
    "print('Found %s word vectors.' % len(embeddings_index))"
   ]
  },
  {
   "cell_type": "code",
   "execution_count": 37,
   "metadata": {},
   "outputs": [],
   "source": [
    "embedding_dim = 200\n",
    "\n",
    "# Get 200-dim dense vector for each of the 10000 words in out vocabulary\n",
    "embedding_matrix = np.zeros((vocab_size, embedding_dim))\n",
    "\n",
    "for word, i in wordtoix.items():\n",
    "    #if i < max_words:\n",
    "    embedding_vector = embeddings_index.get(word)\n",
    "    if embedding_vector is not None:\n",
    "        # Words not found in the embedding index will be all zeros\n",
    "        embedding_matrix[i] = embedding_vector"
   ]
  },
  {
   "cell_type": "code",
   "execution_count": 38,
   "metadata": {},
   "outputs": [
    {
     "data": {
      "text/plain": [
       "(1652, 200)"
      ]
     },
     "execution_count": 38,
     "metadata": {},
     "output_type": "execute_result"
    }
   ],
   "source": [
    "embedding_matrix.shape"
   ]
  },
  {
   "cell_type": "code",
   "execution_count": null,
   "metadata": {},
   "outputs": [],
   "source": []
  },
  {
   "cell_type": "code",
   "execution_count": 39,
   "metadata": {},
   "outputs": [],
   "source": [
    "inputs1 = Input(shape=(2048,))\n",
    "fe1 = Dropout(0.5)(inputs1)\n",
    "fe2 = Dense(256, activation='relu')(fe1)\n",
    "inputs2 = Input(shape=(max_length,))\n",
    "se1 = Embedding(vocab_size, embedding_dim, mask_zero=True)(inputs2)\n",
    "se2 = Dropout(0.5)(se1)\n",
    "se3 = LSTM(256)(se2)\n",
    "decoder1 = add([fe2, se3])\n",
    "decoder2 = Dense(256, activation='relu')(decoder1)\n",
    "outputs = Dense(vocab_size, activation='softmax')(decoder2)\n",
    "model = Model(inputs=[inputs1, inputs2], outputs=outputs)"
   ]
  },
  {
   "cell_type": "code",
   "execution_count": 40,
   "metadata": {},
   "outputs": [
    {
     "name": "stdout",
     "output_type": "stream",
     "text": [
      "Model: \"model_2\"\n",
      "__________________________________________________________________________________________________\n",
      "Layer (type)                    Output Shape         Param #     Connected to                     \n",
      "==================================================================================================\n",
      "input_3 (InputLayer)            (None, 34)           0                                            \n",
      "__________________________________________________________________________________________________\n",
      "input_2 (InputLayer)            (None, 2048)         0                                            \n",
      "__________________________________________________________________________________________________\n",
      "embedding_1 (Embedding)         (None, 34, 200)      330400      input_3[0][0]                    \n",
      "__________________________________________________________________________________________________\n",
      "dropout_1 (Dropout)             (None, 2048)         0           input_2[0][0]                    \n",
      "__________________________________________________________________________________________________\n",
      "dropout_2 (Dropout)             (None, 34, 200)      0           embedding_1[0][0]                \n",
      "__________________________________________________________________________________________________\n",
      "dense_1 (Dense)                 (None, 256)          524544      dropout_1[0][0]                  \n",
      "__________________________________________________________________________________________________\n",
      "lstm_1 (LSTM)                   (None, 256)          467968      dropout_2[0][0]                  \n",
      "__________________________________________________________________________________________________\n",
      "add_1 (Add)                     (None, 256)          0           dense_1[0][0]                    \n",
      "                                                                 lstm_1[0][0]                     \n",
      "__________________________________________________________________________________________________\n",
      "dense_2 (Dense)                 (None, 256)          65792       add_1[0][0]                      \n",
      "__________________________________________________________________________________________________\n",
      "dense_3 (Dense)                 (None, 1652)         424564      dense_2[0][0]                    \n",
      "==================================================================================================\n",
      "Total params: 1,813,268\n",
      "Trainable params: 1,813,268\n",
      "Non-trainable params: 0\n",
      "__________________________________________________________________________________________________\n"
     ]
    }
   ],
   "source": [
    "model.summary()"
   ]
  },
  {
   "cell_type": "code",
   "execution_count": 41,
   "metadata": {},
   "outputs": [
    {
     "data": {
      "text/plain": [
       "<keras.layers.embeddings.Embedding at 0x27342d8e548>"
      ]
     },
     "execution_count": 41,
     "metadata": {},
     "output_type": "execute_result"
    }
   ],
   "source": [
    "model.layers[2]"
   ]
  },
  {
   "cell_type": "code",
   "execution_count": 42,
   "metadata": {},
   "outputs": [],
   "source": [
    "model.layers[2].set_weights([embedding_matrix])\n",
    "model.layers[2].trainable = False"
   ]
  },
  {
   "cell_type": "code",
   "execution_count": 43,
   "metadata": {},
   "outputs": [],
   "source": [
    "model.compile(loss='categorical_crossentropy', optimizer='adam')"
   ]
  },
  {
   "cell_type": "code",
   "execution_count": 44,
   "metadata": {},
   "outputs": [],
   "source": [
    "epochs = 30\n",
    "number_pics_per_bath = 3\n",
    "steps = len(train_descriptions)//number_pics_per_bath"
   ]
  },
  {
   "cell_type": "code",
   "execution_count": 45,
   "metadata": {},
   "outputs": [
    {
     "name": "stdout",
     "output_type": "stream",
     "text": [
      "Epoch 1/1\n",
      "2000/2000 [==============================] - 356s 178ms/step - loss: 4.1271\n",
      "Epoch 1/1\n",
      "2000/2000 [==============================] - 374s 187ms/step - loss: 3.4204\n",
      "Epoch 1/1\n",
      "2000/2000 [==============================] - 441s 221ms/step - loss: 3.2029\n",
      "Epoch 1/1\n",
      "2000/2000 [==============================] - 480s 240ms/step - loss: 3.0702\n",
      "Epoch 1/1\n",
      "2000/2000 [==============================] - 517s 258ms/step - loss: 2.9744\n",
      "Epoch 1/1\n",
      "2000/2000 [==============================] - 377s 188ms/step - loss: 2.9028\n",
      "Epoch 1/1\n",
      "2000/2000 [==============================] - 398s 199ms/step - loss: 2.8436\n",
      "Epoch 1/1\n",
      "   3/2000 [..............................] - ETA: 6:52 - loss: 2.8075"
     ]
    },
    {
     "ename": "KeyboardInterrupt",
     "evalue": "",
     "output_type": "error",
     "traceback": [
      "\u001b[1;31m---------------------------------------------------------------------------\u001b[0m",
      "\u001b[1;31mKeyboardInterrupt\u001b[0m                         Traceback (most recent call last)",
      "\u001b[1;32m<ipython-input-45-102c520ee71e>\u001b[0m in \u001b[0;36m<module>\u001b[1;34m\u001b[0m\n\u001b[0;32m      1\u001b[0m \u001b[1;32mfor\u001b[0m \u001b[0mi\u001b[0m \u001b[1;32min\u001b[0m \u001b[0mrange\u001b[0m\u001b[1;33m(\u001b[0m\u001b[0mepochs\u001b[0m\u001b[1;33m)\u001b[0m\u001b[1;33m:\u001b[0m\u001b[1;33m\u001b[0m\u001b[1;33m\u001b[0m\u001b[0m\n\u001b[0;32m      2\u001b[0m     \u001b[0mgenerator\u001b[0m \u001b[1;33m=\u001b[0m \u001b[0mdata_generator\u001b[0m\u001b[1;33m(\u001b[0m\u001b[0mtrain_descriptions\u001b[0m\u001b[1;33m,\u001b[0m \u001b[0mtrain_features\u001b[0m\u001b[1;33m,\u001b[0m \u001b[0mwordtoix\u001b[0m\u001b[1;33m,\u001b[0m \u001b[0mmax_length\u001b[0m\u001b[1;33m,\u001b[0m \u001b[0mnumber_pics_per_bath\u001b[0m\u001b[1;33m)\u001b[0m\u001b[1;33m\u001b[0m\u001b[1;33m\u001b[0m\u001b[0m\n\u001b[1;32m----> 3\u001b[1;33m     \u001b[0mmodel\u001b[0m\u001b[1;33m.\u001b[0m\u001b[0mfit_generator\u001b[0m\u001b[1;33m(\u001b[0m\u001b[0mgenerator\u001b[0m\u001b[1;33m,\u001b[0m \u001b[0mepochs\u001b[0m\u001b[1;33m=\u001b[0m\u001b[1;36m1\u001b[0m\u001b[1;33m,\u001b[0m \u001b[0msteps_per_epoch\u001b[0m\u001b[1;33m=\u001b[0m\u001b[0msteps\u001b[0m\u001b[1;33m,\u001b[0m \u001b[0mverbose\u001b[0m\u001b[1;33m=\u001b[0m\u001b[1;36m1\u001b[0m\u001b[1;33m)\u001b[0m\u001b[1;33m\u001b[0m\u001b[1;33m\u001b[0m\u001b[0m\n\u001b[0m\u001b[0;32m      4\u001b[0m     \u001b[0mmodel\u001b[0m\u001b[1;33m.\u001b[0m\u001b[0msave\u001b[0m\u001b[1;33m(\u001b[0m\u001b[1;34m'weights/model_'\u001b[0m \u001b[1;33m+\u001b[0m \u001b[0mstr\u001b[0m\u001b[1;33m(\u001b[0m\u001b[0mi\u001b[0m\u001b[1;33m)\u001b[0m \u001b[1;33m+\u001b[0m \u001b[1;34m'.h5'\u001b[0m\u001b[1;33m)\u001b[0m\u001b[1;33m\u001b[0m\u001b[1;33m\u001b[0m\u001b[0m\n",
      "\u001b[1;32m~\\Anaconda3\\lib\\site-packages\\keras\\legacy\\interfaces.py\u001b[0m in \u001b[0;36mwrapper\u001b[1;34m(*args, **kwargs)\u001b[0m\n\u001b[0;32m     89\u001b[0m                 warnings.warn('Update your `' + object_name + '` call to the ' +\n\u001b[0;32m     90\u001b[0m                               'Keras 2 API: ' + signature, stacklevel=2)\n\u001b[1;32m---> 91\u001b[1;33m             \u001b[1;32mreturn\u001b[0m \u001b[0mfunc\u001b[0m\u001b[1;33m(\u001b[0m\u001b[1;33m*\u001b[0m\u001b[0margs\u001b[0m\u001b[1;33m,\u001b[0m \u001b[1;33m**\u001b[0m\u001b[0mkwargs\u001b[0m\u001b[1;33m)\u001b[0m\u001b[1;33m\u001b[0m\u001b[1;33m\u001b[0m\u001b[0m\n\u001b[0m\u001b[0;32m     92\u001b[0m         \u001b[0mwrapper\u001b[0m\u001b[1;33m.\u001b[0m\u001b[0m_original_function\u001b[0m \u001b[1;33m=\u001b[0m \u001b[0mfunc\u001b[0m\u001b[1;33m\u001b[0m\u001b[1;33m\u001b[0m\u001b[0m\n\u001b[0;32m     93\u001b[0m         \u001b[1;32mreturn\u001b[0m \u001b[0mwrapper\u001b[0m\u001b[1;33m\u001b[0m\u001b[1;33m\u001b[0m\u001b[0m\n",
      "\u001b[1;32m~\\Anaconda3\\lib\\site-packages\\keras\\engine\\training.py\u001b[0m in \u001b[0;36mfit_generator\u001b[1;34m(self, generator, steps_per_epoch, epochs, verbose, callbacks, validation_data, validation_steps, validation_freq, class_weight, max_queue_size, workers, use_multiprocessing, shuffle, initial_epoch)\u001b[0m\n\u001b[0;32m   1730\u001b[0m             \u001b[0muse_multiprocessing\u001b[0m\u001b[1;33m=\u001b[0m\u001b[0muse_multiprocessing\u001b[0m\u001b[1;33m,\u001b[0m\u001b[1;33m\u001b[0m\u001b[1;33m\u001b[0m\u001b[0m\n\u001b[0;32m   1731\u001b[0m             \u001b[0mshuffle\u001b[0m\u001b[1;33m=\u001b[0m\u001b[0mshuffle\u001b[0m\u001b[1;33m,\u001b[0m\u001b[1;33m\u001b[0m\u001b[1;33m\u001b[0m\u001b[0m\n\u001b[1;32m-> 1732\u001b[1;33m             initial_epoch=initial_epoch)\n\u001b[0m\u001b[0;32m   1733\u001b[0m \u001b[1;33m\u001b[0m\u001b[0m\n\u001b[0;32m   1734\u001b[0m     \u001b[1;33m@\u001b[0m\u001b[0minterfaces\u001b[0m\u001b[1;33m.\u001b[0m\u001b[0mlegacy_generator_methods_support\u001b[0m\u001b[1;33m\u001b[0m\u001b[1;33m\u001b[0m\u001b[0m\n",
      "\u001b[1;32m~\\Anaconda3\\lib\\site-packages\\keras\\engine\\training_generator.py\u001b[0m in \u001b[0;36mfit_generator\u001b[1;34m(model, generator, steps_per_epoch, epochs, verbose, callbacks, validation_data, validation_steps, validation_freq, class_weight, max_queue_size, workers, use_multiprocessing, shuffle, initial_epoch)\u001b[0m\n\u001b[0;32m    218\u001b[0m                                             \u001b[0msample_weight\u001b[0m\u001b[1;33m=\u001b[0m\u001b[0msample_weight\u001b[0m\u001b[1;33m,\u001b[0m\u001b[1;33m\u001b[0m\u001b[1;33m\u001b[0m\u001b[0m\n\u001b[0;32m    219\u001b[0m                                             \u001b[0mclass_weight\u001b[0m\u001b[1;33m=\u001b[0m\u001b[0mclass_weight\u001b[0m\u001b[1;33m,\u001b[0m\u001b[1;33m\u001b[0m\u001b[1;33m\u001b[0m\u001b[0m\n\u001b[1;32m--> 220\u001b[1;33m                                             reset_metrics=False)\n\u001b[0m\u001b[0;32m    221\u001b[0m \u001b[1;33m\u001b[0m\u001b[0m\n\u001b[0;32m    222\u001b[0m                 \u001b[0mouts\u001b[0m \u001b[1;33m=\u001b[0m \u001b[0mto_list\u001b[0m\u001b[1;33m(\u001b[0m\u001b[0mouts\u001b[0m\u001b[1;33m)\u001b[0m\u001b[1;33m\u001b[0m\u001b[1;33m\u001b[0m\u001b[0m\n",
      "\u001b[1;32m~\\Anaconda3\\lib\\site-packages\\keras\\engine\\training.py\u001b[0m in \u001b[0;36mtrain_on_batch\u001b[1;34m(self, x, y, sample_weight, class_weight, reset_metrics)\u001b[0m\n\u001b[0;32m   1512\u001b[0m             \u001b[0mins\u001b[0m \u001b[1;33m=\u001b[0m \u001b[0mx\u001b[0m \u001b[1;33m+\u001b[0m \u001b[0my\u001b[0m \u001b[1;33m+\u001b[0m \u001b[0msample_weights\u001b[0m\u001b[1;33m\u001b[0m\u001b[1;33m\u001b[0m\u001b[0m\n\u001b[0;32m   1513\u001b[0m         \u001b[0mself\u001b[0m\u001b[1;33m.\u001b[0m\u001b[0m_make_train_function\u001b[0m\u001b[1;33m(\u001b[0m\u001b[1;33m)\u001b[0m\u001b[1;33m\u001b[0m\u001b[1;33m\u001b[0m\u001b[0m\n\u001b[1;32m-> 1514\u001b[1;33m         \u001b[0moutputs\u001b[0m \u001b[1;33m=\u001b[0m \u001b[0mself\u001b[0m\u001b[1;33m.\u001b[0m\u001b[0mtrain_function\u001b[0m\u001b[1;33m(\u001b[0m\u001b[0mins\u001b[0m\u001b[1;33m)\u001b[0m\u001b[1;33m\u001b[0m\u001b[1;33m\u001b[0m\u001b[0m\n\u001b[0m\u001b[0;32m   1515\u001b[0m \u001b[1;33m\u001b[0m\u001b[0m\n\u001b[0;32m   1516\u001b[0m         \u001b[1;32mif\u001b[0m \u001b[0mreset_metrics\u001b[0m\u001b[1;33m:\u001b[0m\u001b[1;33m\u001b[0m\u001b[1;33m\u001b[0m\u001b[0m\n",
      "\u001b[1;32m~\\Anaconda3\\lib\\site-packages\\tensorflow_core\\python\\keras\\backend.py\u001b[0m in \u001b[0;36m__call__\u001b[1;34m(self, inputs)\u001b[0m\n\u001b[0;32m   3738\u001b[0m         \u001b[0mvalue\u001b[0m \u001b[1;33m=\u001b[0m \u001b[0mmath_ops\u001b[0m\u001b[1;33m.\u001b[0m\u001b[0mcast\u001b[0m\u001b[1;33m(\u001b[0m\u001b[0mvalue\u001b[0m\u001b[1;33m,\u001b[0m \u001b[0mtensor\u001b[0m\u001b[1;33m.\u001b[0m\u001b[0mdtype\u001b[0m\u001b[1;33m)\u001b[0m\u001b[1;33m\u001b[0m\u001b[1;33m\u001b[0m\u001b[0m\n\u001b[0;32m   3739\u001b[0m       \u001b[0mconverted_inputs\u001b[0m\u001b[1;33m.\u001b[0m\u001b[0mappend\u001b[0m\u001b[1;33m(\u001b[0m\u001b[0mvalue\u001b[0m\u001b[1;33m)\u001b[0m\u001b[1;33m\u001b[0m\u001b[1;33m\u001b[0m\u001b[0m\n\u001b[1;32m-> 3740\u001b[1;33m     \u001b[0moutputs\u001b[0m \u001b[1;33m=\u001b[0m \u001b[0mself\u001b[0m\u001b[1;33m.\u001b[0m\u001b[0m_graph_fn\u001b[0m\u001b[1;33m(\u001b[0m\u001b[1;33m*\u001b[0m\u001b[0mconverted_inputs\u001b[0m\u001b[1;33m)\u001b[0m\u001b[1;33m\u001b[0m\u001b[1;33m\u001b[0m\u001b[0m\n\u001b[0m\u001b[0;32m   3741\u001b[0m \u001b[1;33m\u001b[0m\u001b[0m\n\u001b[0;32m   3742\u001b[0m     \u001b[1;31m# EagerTensor.numpy() will often make a copy to ensure memory safety.\u001b[0m\u001b[1;33m\u001b[0m\u001b[1;33m\u001b[0m\u001b[1;33m\u001b[0m\u001b[0m\n",
      "\u001b[1;32m~\\Anaconda3\\lib\\site-packages\\tensorflow_core\\python\\eager\\function.py\u001b[0m in \u001b[0;36m__call__\u001b[1;34m(self, *args, **kwargs)\u001b[0m\n\u001b[0;32m   1079\u001b[0m       \u001b[0mTypeError\u001b[0m\u001b[1;33m:\u001b[0m \u001b[0mFor\u001b[0m \u001b[0minvalid\u001b[0m \u001b[0mpositional\u001b[0m\u001b[1;33m/\u001b[0m\u001b[0mkeyword\u001b[0m \u001b[0margument\u001b[0m \u001b[0mcombinations\u001b[0m\u001b[1;33m.\u001b[0m\u001b[1;33m\u001b[0m\u001b[1;33m\u001b[0m\u001b[0m\n\u001b[0;32m   1080\u001b[0m     \"\"\"\n\u001b[1;32m-> 1081\u001b[1;33m     \u001b[1;32mreturn\u001b[0m \u001b[0mself\u001b[0m\u001b[1;33m.\u001b[0m\u001b[0m_call_impl\u001b[0m\u001b[1;33m(\u001b[0m\u001b[0margs\u001b[0m\u001b[1;33m,\u001b[0m \u001b[0mkwargs\u001b[0m\u001b[1;33m)\u001b[0m\u001b[1;33m\u001b[0m\u001b[1;33m\u001b[0m\u001b[0m\n\u001b[0m\u001b[0;32m   1082\u001b[0m \u001b[1;33m\u001b[0m\u001b[0m\n\u001b[0;32m   1083\u001b[0m   \u001b[1;32mdef\u001b[0m \u001b[0m_call_impl\u001b[0m\u001b[1;33m(\u001b[0m\u001b[0mself\u001b[0m\u001b[1;33m,\u001b[0m \u001b[0margs\u001b[0m\u001b[1;33m,\u001b[0m \u001b[0mkwargs\u001b[0m\u001b[1;33m,\u001b[0m \u001b[0mcancellation_manager\u001b[0m\u001b[1;33m=\u001b[0m\u001b[1;32mNone\u001b[0m\u001b[1;33m)\u001b[0m\u001b[1;33m:\u001b[0m\u001b[1;33m\u001b[0m\u001b[1;33m\u001b[0m\u001b[0m\n",
      "\u001b[1;32m~\\Anaconda3\\lib\\site-packages\\tensorflow_core\\python\\eager\\function.py\u001b[0m in \u001b[0;36m_call_impl\u001b[1;34m(self, args, kwargs, cancellation_manager)\u001b[0m\n\u001b[0;32m   1119\u001b[0m       raise TypeError(\"Keyword arguments {} unknown. Expected {}.\".format(\n\u001b[0;32m   1120\u001b[0m           list(kwargs.keys()), list(self._arg_keywords)))\n\u001b[1;32m-> 1121\u001b[1;33m     \u001b[1;32mreturn\u001b[0m \u001b[0mself\u001b[0m\u001b[1;33m.\u001b[0m\u001b[0m_call_flat\u001b[0m\u001b[1;33m(\u001b[0m\u001b[0margs\u001b[0m\u001b[1;33m,\u001b[0m \u001b[0mself\u001b[0m\u001b[1;33m.\u001b[0m\u001b[0mcaptured_inputs\u001b[0m\u001b[1;33m,\u001b[0m \u001b[0mcancellation_manager\u001b[0m\u001b[1;33m)\u001b[0m\u001b[1;33m\u001b[0m\u001b[1;33m\u001b[0m\u001b[0m\n\u001b[0m\u001b[0;32m   1122\u001b[0m \u001b[1;33m\u001b[0m\u001b[0m\n\u001b[0;32m   1123\u001b[0m   \u001b[1;32mdef\u001b[0m \u001b[0m_filtered_call\u001b[0m\u001b[1;33m(\u001b[0m\u001b[0mself\u001b[0m\u001b[1;33m,\u001b[0m \u001b[0margs\u001b[0m\u001b[1;33m,\u001b[0m \u001b[0mkwargs\u001b[0m\u001b[1;33m)\u001b[0m\u001b[1;33m:\u001b[0m\u001b[1;33m\u001b[0m\u001b[1;33m\u001b[0m\u001b[0m\n",
      "\u001b[1;32m~\\Anaconda3\\lib\\site-packages\\tensorflow_core\\python\\eager\\function.py\u001b[0m in \u001b[0;36m_call_flat\u001b[1;34m(self, args, captured_inputs, cancellation_manager)\u001b[0m\n\u001b[0;32m   1222\u001b[0m     \u001b[1;32mif\u001b[0m \u001b[0mexecuting_eagerly\u001b[0m\u001b[1;33m:\u001b[0m\u001b[1;33m\u001b[0m\u001b[1;33m\u001b[0m\u001b[0m\n\u001b[0;32m   1223\u001b[0m       flat_outputs = forward_function.call(\n\u001b[1;32m-> 1224\u001b[1;33m           ctx, args, cancellation_manager=cancellation_manager)\n\u001b[0m\u001b[0;32m   1225\u001b[0m     \u001b[1;32melse\u001b[0m\u001b[1;33m:\u001b[0m\u001b[1;33m\u001b[0m\u001b[1;33m\u001b[0m\u001b[0m\n\u001b[0;32m   1226\u001b[0m       \u001b[0mgradient_name\u001b[0m \u001b[1;33m=\u001b[0m \u001b[0mself\u001b[0m\u001b[1;33m.\u001b[0m\u001b[0m_delayed_rewrite_functions\u001b[0m\u001b[1;33m.\u001b[0m\u001b[0mregister\u001b[0m\u001b[1;33m(\u001b[0m\u001b[1;33m)\u001b[0m\u001b[1;33m\u001b[0m\u001b[1;33m\u001b[0m\u001b[0m\n",
      "\u001b[1;32m~\\Anaconda3\\lib\\site-packages\\tensorflow_core\\python\\eager\\function.py\u001b[0m in \u001b[0;36mcall\u001b[1;34m(self, ctx, args, cancellation_manager)\u001b[0m\n\u001b[0;32m    509\u001b[0m               \u001b[0minputs\u001b[0m\u001b[1;33m=\u001b[0m\u001b[0margs\u001b[0m\u001b[1;33m,\u001b[0m\u001b[1;33m\u001b[0m\u001b[1;33m\u001b[0m\u001b[0m\n\u001b[0;32m    510\u001b[0m               \u001b[0mattrs\u001b[0m\u001b[1;33m=\u001b[0m\u001b[1;33m(\u001b[0m\u001b[1;34m\"executor_type\"\u001b[0m\u001b[1;33m,\u001b[0m \u001b[0mexecutor_type\u001b[0m\u001b[1;33m,\u001b[0m \u001b[1;34m\"config_proto\"\u001b[0m\u001b[1;33m,\u001b[0m \u001b[0mconfig\u001b[0m\u001b[1;33m)\u001b[0m\u001b[1;33m,\u001b[0m\u001b[1;33m\u001b[0m\u001b[1;33m\u001b[0m\u001b[0m\n\u001b[1;32m--> 511\u001b[1;33m               ctx=ctx)\n\u001b[0m\u001b[0;32m    512\u001b[0m         \u001b[1;32melse\u001b[0m\u001b[1;33m:\u001b[0m\u001b[1;33m\u001b[0m\u001b[1;33m\u001b[0m\u001b[0m\n\u001b[0;32m    513\u001b[0m           outputs = execute.execute_with_cancellation(\n",
      "\u001b[1;32m~\\Anaconda3\\lib\\site-packages\\tensorflow_core\\python\\eager\\execute.py\u001b[0m in \u001b[0;36mquick_execute\u001b[1;34m(op_name, num_outputs, inputs, attrs, ctx, name)\u001b[0m\n\u001b[0;32m     59\u001b[0m     tensors = pywrap_tensorflow.TFE_Py_Execute(ctx._handle, device_name,\n\u001b[0;32m     60\u001b[0m                                                \u001b[0mop_name\u001b[0m\u001b[1;33m,\u001b[0m \u001b[0minputs\u001b[0m\u001b[1;33m,\u001b[0m \u001b[0mattrs\u001b[0m\u001b[1;33m,\u001b[0m\u001b[1;33m\u001b[0m\u001b[1;33m\u001b[0m\u001b[0m\n\u001b[1;32m---> 61\u001b[1;33m                                                num_outputs)\n\u001b[0m\u001b[0;32m     62\u001b[0m   \u001b[1;32mexcept\u001b[0m \u001b[0mcore\u001b[0m\u001b[1;33m.\u001b[0m\u001b[0m_NotOkStatusException\u001b[0m \u001b[1;32mas\u001b[0m \u001b[0me\u001b[0m\u001b[1;33m:\u001b[0m\u001b[1;33m\u001b[0m\u001b[1;33m\u001b[0m\u001b[0m\n\u001b[0;32m     63\u001b[0m     \u001b[1;32mif\u001b[0m \u001b[0mname\u001b[0m \u001b[1;32mis\u001b[0m \u001b[1;32mnot\u001b[0m \u001b[1;32mNone\u001b[0m\u001b[1;33m:\u001b[0m\u001b[1;33m\u001b[0m\u001b[1;33m\u001b[0m\u001b[0m\n",
      "\u001b[1;31mKeyboardInterrupt\u001b[0m: "
     ]
    }
   ],
   "source": [
    "for i in range(epochs):\n",
    "    generator = data_generator(train_descriptions, train_features, wordtoix, max_length, number_pics_per_bath)\n",
    "    model.fit_generator(generator, epochs=1, steps_per_epoch=steps, verbose=1)\n",
    "    model.save('weights/model_' + str(i) + '.h5')"
   ]
  },
  {
   "cell_type": "code",
   "execution_count": null,
   "metadata": {},
   "outputs": [],
   "source": []
  },
  {
   "cell_type": "code",
   "execution_count": null,
   "metadata": {},
   "outputs": [],
   "source": []
  },
  {
   "cell_type": "code",
   "execution_count": null,
   "metadata": {},
   "outputs": [],
   "source": []
  },
  {
   "cell_type": "code",
   "execution_count": 54,
   "metadata": {},
   "outputs": [],
   "source": []
  },
  {
   "cell_type": "code",
   "execution_count": null,
   "metadata": {},
   "outputs": [],
   "source": []
  },
  {
   "cell_type": "code",
   "execution_count": null,
   "metadata": {},
   "outputs": [],
   "source": []
  },
  {
   "cell_type": "code",
   "execution_count": 91,
   "metadata": {},
   "outputs": [],
   "source": [
    "model.load_weights('model_6.h5')"
   ]
  },
  {
   "cell_type": "code",
   "execution_count": 92,
   "metadata": {},
   "outputs": [],
   "source": [
    "images = 'Flicker8k_Dataset/'"
   ]
  },
  {
   "cell_type": "code",
   "execution_count": 93,
   "metadata": {},
   "outputs": [],
   "source": [
    "with open(\"encoded_test_images.pkl\", \"rb\") as encoded_pickle:\n",
    "    encoding_test = load(encoded_pickle)"
   ]
  },
  {
   "cell_type": "code",
   "execution_count": 94,
   "metadata": {},
   "outputs": [],
   "source": [
    "def greedySearch(photo):\n",
    "    in_text = 'startseq'\n",
    "    for i in range(max_length):\n",
    "        sequence = [wordtoix[w] for w in in_text.split() if w in wordtoix]\n",
    "        sequence = pad_sequences([sequence], maxlen=max_length)\n",
    "        yhat = model.predict([photo,sequence], verbose=0)\n",
    "        yhat = np.argmax(yhat)\n",
    "        word = ixtoword[yhat]\n",
    "        in_text += ' ' + word\n",
    "        if word == 'endseq':\n",
    "            break\n",
    "    final = in_text.split()\n",
    "    final = final[1:-1]\n",
    "    final = ' '.join(final)\n",
    "    return final"
   ]
  },
  {
   "cell_type": "code",
   "execution_count": 122,
   "metadata": {},
   "outputs": [
    {
     "data": {
      "text/plain": [
       "dict_keys(['1056338697_4f7d7ce270.jpg', '106490881_5a2dd9b7bd.jpg', '1082379191_ec1e53f996.jpg', '1084040636_97d9633581.jpg', '1096395242_fc69f0ae5a.jpg', '1107246521_d16a476380.jpg', '1119015538_e8e796281e.jpg', '1122944218_8eb3607403.jpg', '1131800850_89c7ffd477.jpg', '1131932671_c8d17751b3.jpg', '113678030_87a6a6e42e.jpg', '114051287_dd85625a04.jpg', '115684808_cb01227802.jpg', '1167669558_87a8a467d6.jpg', '1174525839_7c1e6cfa86.jpg', '1174629344_a2e1a2bdbf.jpg', '1220401002_3f44b1f3f7.jpg', '1224851143_33bcdd299c.jpg', '1237985362_dbafc59280.jpg', '1248940539_46d33ed487.jpg', '1258913059_07c613f7ff.jpg', '1262583859_653f1469a9.jpg', '1267711451_e2a754b4f8.jpg', '127488876_f2d2a89588.jpg', '127490019_7c5c08cb11.jpg', '1282392036_5a0328eb86.jpg', '1287073593_f3d2a62455.jpg', '1287475186_2dee85f1a5.jpg', '1298295313_db1f4c6522.jpg', '1311388430_4ab0cd1a1f.jpg', '1317292658_ba29330a0b.jpg', '1322323208_c7ecb742c6.jpg', '132489044_3be606baf7.jpg', '1329832826_432538d331.jpg', '1332722096_1e3de8ae70.jpg', '1339596997_8ac29c1841.jpg', '1343426964_cde3fb54e8.jpg', '1348304997_afe60a61df.jpg', '1352410176_af6b139734.jpg', '1356796100_b265479721.jpg', '136552115_6dc3e7231c.jpg', '136644343_0e2b423829.jpg', '136886677_6026c622eb.jpg', '1386964743_9e80d96b05.jpg', '138718600_f430ebca17.jpg', '1387785218_cee67735f5.jpg', '1389264266_8170bc1c54.jpg', '1392272228_cf104086e6.jpg', '1394368714_3bc7c19969.jpg', '1402640441_81978e32a9.jpg', '1404832008_68e432665b.jpg', '1408958345_68eea9a4e4.jpg', '1415591512_a84644750c.jpg', '1417031097_ab656bc4bd.jpg', '1425069308_488e5fcf9d.jpg', '1427391496_ea512cbe7f.jpg', '1432179046_8e3d75cf81.jpg', '1433142189_cda8652603.jpg', '143688283_a96ded20f1.jpg', '1446053356_a924b4893f.jpg', '1456393634_74022d9056.jpg', '1461667284_041c8a2475.jpg', '1467533293_a2656cc000.jpg', '1472230829_803818a383.jpg', '1472882567_33dc14c8b6.jpg', '1490213660_9ea45550cf.jpg', '1490670858_e122df2560.jpg', '1499581619_a5f65a882c.jpg', '150387174_24825cf871.jpg', '1509786421_f03158adfc.jpg', '1517721825_10176d0683.jpg', '1523984678_edd68464da.jpg', '1536774449_e16b1b6382.jpg', '1547883892_e29b3db42e.jpg', '154871781_ae77696b77.jpg', '1554713437_61b64527dd.jpg', '1561658940_a947f2446a.jpg', '1572532018_64c030c974.jpg', '1584315962_5b0b45d02d.jpg', '160792599_6a7ec52516.jpg', '1626754053_81126b67b6.jpg', '1659358141_0433c9bf99.jpg', '166507476_9be5b9852a.jpg', '1674612291_7154c5ab61.jpg', '1679617928_a73c1769be.jpg', '1682079482_9a72fa57fa.jpg', '170100272_d820db2199.jpg', '1714316707_8bbaa2a2ba.jpg', '172097782_f0844ec317.jpg', '1764955991_5e53a28c87.jpg', '1765164972_92dac06fa9.jpg', '1772859261_236c09b861.jpg', '1773928579_5664a810dc.jpg', '1786425974_c7c5ad6aa1.jpg', '180094434_b0f244832d.jpg', '180506881_de0f59770f.jpg', '1808370027_2088394eb4.jpg', '1836335410_de8313a64e.jpg', '1897025969_0c41688fa6.jpg', '189721896_1ffe76d89e.jpg', '191003285_edd8d0cf58.jpg', '1917265421_aeccf1ca38.jpg', '1962729184_6996e128e7.jpg', '197107117_4b438b1872.jpg', '197504190_fd1fc3d4b7.jpg', '1982852140_56425fa7a2.jpg', '1998457059_c9ac9a1e1a.jpg', '200771289_31902164a7.jpg', '2021613437_d99731f986.jpg', '2041867793_552819a40b.jpg', '2049051050_20359a434a.jpg', '2054869561_ff723e9eab.jpg', '2061144717_5b3a1864f0.jpg', '2061354254_faa5bd294b.jpg', '2064790732_219e52e19c.jpg', '2073105823_6dacade004.jpg', '2073964624_52da3a0fc4.jpg', '2075321027_c8fcbaf581.jpg', '2077079696_03380d218b.jpg', '2078311270_f01c9eaf4c.jpg', '2083434441_a93bc6306b.jpg', '2084217208_7bd9bc85e5.jpg', '2086513494_dbbcb583e7.jpg', '2089426086_7acc98a3a8.jpg', '2096771662_984441d20d.jpg', '2100816230_ff866fb352.jpg', '2101457132_69c950bc45.jpg', '2102360862_264452db8e.jpg', '2103568100_5d018c495b.jpg', '2105756457_a100d8434e.jpg', '2112921744_92bf706805.jpg', '211295363_49010ca38d.jpg', '2120383553_5825333a3f.jpg', '2120411340_104eb610b1.jpg', '2124040721_bffc0a091a.jpg', '2128119486_4407061c40.jpg', '2140182410_8e2a06fbda.jpg', '2148916767_644ea6a7fa.jpg', '215214751_e913b6ff09.jpg', '2160266952_a2ab39191b.jpg', '2162564553_96de62c7e6.jpg', '2167644298_100ca79f54.jpg', '2170222061_e8bce4a32d.jpg', '2176980976_7054c99621.jpg', '2182488373_df73c7cc09.jpg', '2183227136_8bb657846b.jpg', '2189995738_352607a63b.jpg', '219070971_ae43410b9e.jpg', '2192131110_8a40e7c028.jpg', '219301555_17883a51bd.jpg', '2194286203_5dc620006a.jpg', '2194494220_bb2178832c.jpg', '2196107384_361d73a170.jpg', '2196316998_3b2d63f01f.jpg', '2196846255_2c1635359a.jpg', '2197275664_fabcf3424b.jpg', '2204550058_2707d92338.jpg', '2206960564_325ed0c7ae.jpg', '2207244634_1db1a1890b.jpg', '2208067635_39a03834ca.jpg', '2208310655_a3d83080c5.jpg', '2215136723_960edfea49.jpg', '2216695423_1362cb25f3.jpg', '2218609886_892dcd6915.jpg', '2224450291_4c133fabe8.jpg', '2225231022_1632d0a5aa.jpg', '2228022180_9597b2a458.jpg', '2229179070_dc8ea8582e.jpg', '223299142_521aedf9e7.jpg', '2238019823_79318d1f11.jpg', '2238759450_6475641bdb.jpg', '2239938351_43c73c887c.jpg', '224369028_b1ac40d1fa.jpg', '2247889670_413db8094b.jpg', '2248487950_c62d0c81a9.jpg', '2251747182_6b67a3ab8b.jpg', '2256133102_e2c8314ecb.jpg', '2265096094_8cc34d669c.jpg', '226607225_44d696db6b.jpg', '2271755053_e1b1ec8442.jpg', '2274992140_bb9e868bb8.jpg', '2280525192_81911f2b00.jpg', '2283966256_70317e1759.jpg', '2285570521_05015cbf4b.jpg', '2288099178_41091aa00c.jpg', '2289068031_fe26990183.jpg', '2292406847_f366350600.jpg', '2295216243_0712928988.jpg', '2295750198_6d152d7ceb.jpg', '229862312_1a0ba19dab.jpg', '2300168895_a9b83e16fc.jpg', '2301525531_edde12d673.jpg', '2306674172_dc07c7f847.jpg', '2307118114_c258e3a47e.jpg', '2308271254_27fb466eb4.jpg', '2308978137_bfe776d541.jpg', '2309860995_c2e2a0feeb.jpg', '2310126952_7dc86d88f6.jpg', '2311690895_0d6efe11c8.jpg', '2317714088_bcd081f926.jpg', '2333288869_8c01e4c859.jpg', '2339106348_2df90aa6a9.jpg', '2340206885_58754a799a.jpg', '2343525685_3eba3b6686.jpg', '2345984157_724823b1e4.jpg', '2346401538_f5e8da66fc.jpg', '2351479551_e8820a1ff3.jpg', '2354540393_a149722680.jpg', '2358554995_54ed3baa83.jpg', '2358561039_e215a8d6cd.jpg', '2358898017_24496b80e8.jpg', '2370481277_a3085614c9.jpg', '2373234213_4ebe9c4ee5.jpg', '2374652725_32f90fa15c.jpg', '2378149488_648e5deeac.jpg', '2384353160_f395e9a54b.jpg', '2393264648_a280744f97.jpg', '2396025708_e4a72e2558.jpg', '2396691909_6b8c2f7c44.jpg', '2398605966_1d0c9e6a20.jpg', '241031254_0c6f30e3d1.jpg', '2410320522_d967f0b75c.jpg', '241345811_46b5f157d4.jpg', '241345844_69e1c22464.jpg', '241345905_5826a72da1.jpg', '241346508_0b3907a95b.jpg', '241346971_c100650320.jpg', '241347204_007d83e252.jpg', '241347760_d44c8d3a01.jpg', '2414397449_2ac3b78e0d.jpg', '2415803492_56a673dc25.jpg', '2419221084_01a14176b4.jpg', '2421446839_fe7d46c177.jpg', '2431470169_0eeba7d602.jpg', '2431832075_00aa1a4457.jpg', '2435685480_a79d42e564.jpg', '2436081047_bca044c1d3.jpg', '2443380641_7b38d18f5b.jpg', '2445283938_ff477c7952.jpg', '244571201_0339d8e8d1.jpg', '2447284966_d6bbdb4b6e.jpg', '2450299735_62c095f40e.jpg', '2450453051_f1d4a78ab4.jpg', '245252561_4f20f1c89e.jpg', '2453971388_76616b6a82.jpg', '2458269558_277012780d.jpg', '245895500_a4eb97af02.jpg', '246055693_ccb69ac5c6.jpg', '2460797929_66446c13db.jpg', '2461616306_3ee7ac1b4b.jpg', '2470486377_c3a39ccb7b.jpg', '2472980433_210ec62874.jpg', '2473689180_e9d8fd656a.jpg', '2473738924_eca928d12f.jpg', '2473791980_805c819bd4.jpg', '2475162978_2c51048dca.jpg', '247637795_fdf26a03cf.jpg', '247704641_d883902277.jpg', '2479162876_a5ce3306af.jpg', '2479652566_8f9fac8af5.jpg', '2480327661_fb69829f57.jpg', '2480850054_de3433b54a.jpg', '2482629385_f370b290d1.jpg', '2484190118_e89363c465.jpg', '2490768374_45d94fc658.jpg', '249394748_2e4acfbbb5.jpg', '2495931537_9b8d4474b6.jpg', '2496370758_a3fbc49837.jpg', '2497420371_74788d7ba1.jpg', '2498897831_0bbb5d5b51.jpg', '2501595799_6316001e89.jpg', '2502905671_c6039804ab.jpg', '2505988632_9541f15583.jpg', '2510020918_b2ca0fb2aa.jpg', '2511019188_ca71775f2d.jpg', '2518508760_68d8df7365.jpg', '2521770311_3086ca90de.jpg', '2522297487_57edf117f7.jpg', '2525270674_4ab536e7ec.jpg', '2526041608_a9775ab8d7.jpg', '2526585002_10987a63f3.jpg', '2529116152_4331dabf50.jpg', '2533424347_cf2f84872b.jpg', '2533642917_a5eace85e6.jpg', '2534502836_7a75305655.jpg', '2541104331_a2d65cfa54.jpg', '2542662402_d781dd7f7c.jpg', '254295381_d98fa049f4.jpg', '2543589122_ec3e55f434.jpg', '2544182005_3aa1332bf9.jpg', '2544426580_317b1f1f73.jpg', '2549968784_39bfbe44f9.jpg', '2553550034_5901aa9d6c.jpg', '2554081584_233bdf289a.jpg', '2559503010_84f20b3bc9.jpg', '2559921948_06af25d566.jpg', '256085101_2c2617c5d0.jpg', '2573625591_70291c894a.jpg', '2575647360_f5de38c751.jpg', '2577972703_a22c5f2a87.jpg', '2581066814_179d28f306.jpg', '2587818583_4aa8e7b174.jpg', '2588927489_f4da2f11ec.jpg', '2589241160_3832440850.jpg', '2594042571_2e4666507e.jpg', '2594902417_f65d8866a8.jpg', '2595186208_9b16fa0ee3.jpg', '2599444370_9e40103027.jpg', '2600867924_cd502fc911.jpg', '2602085456_d1beebcb29.jpg', '2602258549_7401a3cdae.jpg', '2603792708_18a97bac97.jpg', '260520547_944f9f4c91.jpg', '2607462776_78e639d891.jpg', '260828892_7925d27865.jpg', '2608289957_044849f73e.jpg', '2610447973_89227ff978.jpg', '2612488996_9450de0e54.jpg', '261490838_2f3ac98b12.jpg', '2616643090_4f2d2d1a44.jpg', '2621415349_ef1a7e73be.jpg', '2623930900_b9df917b82.jpg', '2631300484_be8621d17b.jpg', '263854883_0f320c1562.jpg', '2641770481_c98465ff35.jpg', '2644430445_47c985a2ee.jpg', '2646046871_c3a5dbb971.jpg', '2646116932_232573f030.jpg', '2647049174_0fb47cee2e.jpg', '2648165716_02e2e74fd6.jpg', '2649406158_ded6be38de.jpg', '2652522323_9218afd8c2.jpg', '2654514044_a70a6e2c21.jpg', '2657484284_daa07a3a1b.jpg', '2660008870_b672a4c76a.jpg', '2662845514_8620aaee96.jpg', '2663794355_e726ec7e05.jpg', '2666179615_f05a9d8331.jpg', '2666205903_8d287669e1.jpg', '2667015110_1670324a33.jpg', '2675685200_0913d84d9b.jpg', '2676764246_c58205a365.jpg', '2677656448_6b7e7702af.jpg', '2682382530_f9f8fd1e89.jpg', '2683963310_20dcd5e566.jpg', '2689001252_e0016c89f0.jpg', '2693425189_47740c22ed.jpg', '2696866120_254a0345bc.jpg', '2698666984_13e17236ae.jpg', '2704934519_457dc38986.jpg', '2706766641_a9df81969d.jpg', '270724499_107481c88f.jpg', '2707873672_15e6b5d54b.jpg', '270816949_ffad112278.jpg', '2708686056_1b8f356264.jpg', '2712787899_d85048eb6a.jpg', '2715035273_8fc8b1291c.jpg', '2718024196_3ff660416a.jpg', '2718495608_d8533e3ac5.jpg', '2723477522_d89f5ac62b.jpg', '2729655904_1dd01922fb.jpg', '2731171552_4a808c7d5a.jpg', '2735558076_0d7bbc18fc.jpg', '2739331794_4ae78f69a0.jpg', '2748729903_3c7c920c4d.jpg', '2757803246_8aa3499d26.jpg', '2759860913_f75b39d783.jpg', '2762301555_48a0d0aa24.jpg', '2763044275_aa498eb88b.jpg', '2764178773_d63b502812.jpg', '2774430374_fee1d793e7.jpg', '2774554310_007e980a90.jpg', '2782433864_5a0c311d87.jpg', '2788945468_74a9618cfa.jpg', '2796801478_8ebd7e550b.jpg', '2797149878_bb8e27ecf9.jpg', '279728508_6bd7281f3c.jpg', '2806710650_e201acd913.jpg', '280706862_14c30d734a.jpg', '2813033949_e19fa08805.jpg', '2813992915_f732cf8539.jpg', '2815256108_fc1302117d.jpg', '2822290399_97c809d43b.jpg', '2830869109_c4e403eae6.jpg', '2831217847_555b2f95ca.jpg', '2839038702_e168128665.jpg', '2842865689_e37256d9ce.jpg', '2843695880_eeea6c67db.jpg', '2844018783_524b08e5aa.jpg', '2844641033_dab3715a99.jpg', '2847615962_c330bded6e.jpg', '2854207034_1f00555703.jpg', '2854959952_3991a385ab.jpg', '2856080862_95d793fa9d.jpg', '2860872588_f2c7b30e1a.jpg', '2861932486_52befd8592.jpg', '2862004252_53894bb28b.jpg', '2866254827_9a8f592017.jpg', '2868575889_2c030aa8ae.jpg', '2869491449_1041485a6b.jpg', '2870875612_2cbb9e4a3c.jpg', '2876993733_cb26107d18.jpg', '2877503811_4e311253ec.jpg', '2878190821_6e4e03dc5f.jpg', '2878272032_fda05ffac7.jpg', '2883099128_0b056eed9e.jpg', '2884301336_dc8e974431.jpg', '2884420269_225d27f242.jpg', '2885387575_9127ea10f1.jpg', '2886411666_72d8b12ce4.jpg', '2890113532_ab2003d74e.jpg', '2891617125_f939f604c7.jpg', '2892995070_39f3c9a56e.jpg', '2893374123_087f98d58a.jpg', '2894217628_f1a4153dca.jpg', '2900274587_f2cbca4c58.jpg', '2901074943_041aba4607.jpg', '2901880865_3fd7b66a45.jpg', '2902269566_419d9f1d8e.jpg', '2905942129_2b4bf59bc0.jpg', '2909875716_25c8652614.jpg', '2909955251_4b326a46a7.jpg', '2910758605_73a3f5a5c2.jpg', '2913965136_2d00136697.jpg', '2914206497_5e36ac6324.jpg', '2918769188_565dd48060.jpg', '2921094201_2ed70a7963.jpg', '2922222717_12195af92d.jpg', '2922973230_5a769ef92a.jpg', '2924259848_effb4dcb82.jpg', '2926233397_71e617f3a3.jpg', '2926595608_69b22be8d4.jpg', '2928152792_b16c73434a.jpg', '2929506802_5432054d77.jpg', '2932740428_b15384f389.jpg', '293327462_20dee0de56.jpg', '2933637854_984614e18b.jpg', '2933912528_52b05f84a1.jpg', '2934359101_cdf57442dc.jpg', '2938120171_970564e3d8.jpg', '2938747424_64e64784f0.jpg', '293879742_5fe0ffd894.jpg', '293881927_ac62900fd4.jpg', '2943023421_e297f05e11.jpg', '2944362789_aebbc22db4.jpg', '2944836001_b38b516286.jpg', '2944952557_8484f0da8f.jpg', '2945036454_280fa5b29f.jpg', '2949982320_c704b31626.jpg', '2950905787_f2017d3e49.jpg', '2953015871_cae796b6e7.jpg', '2963573792_dd51b5fbfb.jpg', '2966552760_e65b22cd26.jpg', '2968182121_b3b491df85.jpg', '2971431335_e192613db4.jpg', '2981702521_2459f2c1c4.jpg', '2984174290_a915748d77.jpg', '2985679744_75a7102aab.jpg', '2991575785_bd4868e215.jpg', '2991994415_504d1c0a03.jpg', '2991994607_06f24ec7a6.jpg', '2994179598_a45c2732b5.jpg', '2999730677_0cfa1c146e.jpg', '300314926_0b2e4b64f5.jpg', '3003691049_f4363c2d5c.jpg', '3004823335_9b82cbd8a7.jpg', '300550441_f44ec3701a.jpg', '300577375_26cc2773a1.jpg', '3006093003_c211737232.jpg', '300922408_05a4f9938c.jpg', '3009644534_992e9ea2a7.jpg', '3015863181_92ff43f4d8.jpg', '3016606751_0e8be20abd.jpg', '3017521547_f5ef8848e3.jpg', '3019842612_8501c1791e.jpg', '3024172109_a10198e1dd.jpg', '3025549604_38b86198f5.jpg', '3027397797_4f1d305ced.jpg', '3028969146_26929ae0e8.jpg', '302983277_69a4e732e4.jpg', '3030294889_78b2ccbe51.jpg', '3030566410_393c36a6c5.jpg', '3040033126_9f4b88261b.jpg', '3042380610_c5ea61eef8.jpg', '3044500219_778f9f2b71.jpg', '3044536048_e615466e7f.jpg', '3044746136_8b89da5f40.jpg', '3045613316_4e88862836.jpg', '3047264346_e24601bfbf.jpg', '3048597471_5697538daf.jpg', '3051384385_c5c850c1f8.jpg', '3052196390_c59dd24ca8.jpg', '3053743109_a2d780c0d2.jpg', '3058439373_9276a4702a.jpg', '3061481868_d1e00b1f2e.jpg', '3062173277_bfb5ef4c45.jpg', '3064383768_f6838f57da.jpg', '3070011270_390e597783.jpg', '3070031806_3d587c2a66.jpg', '3071676551_a65741e372.jpg', '3072114570_e1c0127529.jpg', '3072172967_630e9c69d0.jpg', '307327914_f98f576adb.jpg', '3074842262_62b1b2168c.jpg', '3079787482_0757e9d167.jpg', '3080056515_3013830309.jpg', '308487515_7852928f90.jpg', '3085226474_62aba51179.jpg', '3085667767_66041b202e.jpg', '3085667865_fa001816be.jpg', '3095225232_2e6e6dc92e.jpg', '309687244_4bdf3b591f.jpg', '3099923914_fd450f6d51.jpg', '3100251515_c68027cc22.jpg', '3106026005_473a7b1c8c.jpg', '3107513635_fe8a21f148.jpg', '3108197858_441ff38565.jpg', '3108732084_565b423162.jpg', '3109704348_c6416244ce.jpg', '3110649716_c17e14670e.jpg', '311146855_0b65fdb169.jpg', '3113322995_13781860f2.jpg', '3114944484_28b5bb9842.jpg', '3115174046_9e96b9ce47.jpg', '3116769029_f5a76f04ba.jpg', '3119076670_64b5340530.jpg', '3119875880_22f9129a1c.jpg', '3121521593_18f0ec14f7.jpg', '3123351642_3794f2f601.jpg', '3123463486_f5b36a3624.jpg', '3125309108_1011486589.jpg', '3128164023_ebe8da4c32.jpg', '3135504530_0f4130d8f8.jpg', '3138399980_d6ab8b2272.jpg', '3139160252_75109e9e05.jpg', '3139876823_859c7d7c23.jpg', '3141293960_74459f0a24.jpg', '3143155555_32b6d24f34.jpg', '3143982558_9e2d44c155.jpg', '3145967309_b33abe4d84.jpg', '3149919755_f9272b10b3.jpg', '3150742439_b8a352e1e0.jpg', '3154641421_d1b9b8c24c.jpg', '3155390408_8e1a81efb2.jpg', '3155451946_c0862c70cb.jpg', '3155987659_b9ea318dd3.jpg', '3157847991_463e006a28.jpg', '315880837_90db309bab.jpg', '3159995270_17334ccb5b.jpg', '3162045919_c2decbb69b.jpg', '3167365436_c379bda282.jpg', '3168123064_d1983b8f92.jpg', '317109978_cb557802e1.jpg', '317383917_d8bfa350b6.jpg', '317488612_70ac35493b.jpg', '3179336562_c3d0c0a3bd.jpg', '3181701312_70a379ab6e.jpg', '3182121297_38c99b2769.jpg', '3185371756_ff4e9fa8a6.jpg', '3185409663_95f6b958d8.jpg', '3186073578_6e115f45f5.jpg', '3186412658_2ab2ebd397.jpg', '3187395715_f2940c2b72.jpg', '3187492926_8aa85f80c6.jpg', '3191135894_2b4bdabb6d.jpg', '3192069971_83c5a90b4c.jpg', '3192266178_f9bf5d3dba.jpg', '3197917064_e679a44b8e.jpg', '3197981073_3156963446.jpg', '3200120942_59cfbb3437.jpg', '3201427741_3033f5b625.jpg', '3203453897_6317aac6ff.jpg', '3203908917_53e53c03d1.jpg', '3207358897_bfa61fa3c6.jpg', '3208074567_ac44aeb3f3.jpg', '3211556865_d1d9becf69.jpg', '3213992947_3f3f967a9f.jpg', '3214237686_6566b8b52f.jpg', '3214573346_d3a57f0328.jpg', '3214885227_2be09e7cfb.jpg', '3216926094_bc975e84b9.jpg', '3217187564_0ffd89dec1.jpg', '3217266166_4e0091860b.jpg', '3217620013_8b17873273.jpg', '3217910740_d1d61c08ab.jpg', '3218480482_66af7587c8.jpg', '3220126881_b0a4f7cccb.jpg', '3220161734_77f42734b9.jpg', '3220650628_4ed964e5b4.jpg', '3221036999_3f7b152d8a.jpg', '3222041930_f642f49d28.jpg', '3222055946_45f7293bb2.jpg', '3223055565_68973f5d20.jpg', '3223224391_be50bf4f43.jpg', '3224227640_31865b3651.jpg', '3225310099_d8e419ba56.jpg', '3227148358_f152303584.jpg', '3228069008_edb2961fc4.jpg', '3232470286_903a61ea16.jpg', '3234115903_f4dfc8fc75.jpg', '3234401637_84e0d14414.jpg', '3238951136_2a99f1a1a8.jpg', '3239021459_a6b71bb400.jpg', '324208502_674488bcea.jpg', '3243588540_b418ac7eda.jpg', '3244470342_c08f6bb17e.jpg', '3244747165_17028936e0.jpg', '3245070961_8977fdd548.jpg', '3245460937_2710a82709.jpg', '3245912109_fdeef6b456.jpg', '3246991821_750a3097e2.jpg', '3247052319_da8aba1983.jpg', '3250695024_93e8ab7305.jpg', '3251648670_9339943ba2.jpg', '3251976937_20625dc2b8.jpg', '3254817653_632e840423.jpg', '3255482333_5bcee79f7e.jpg', '3256043809_47258e0b3e.jpg', '3256275785_9c3af57576.jpg', '3258874419_23fec1bdc1.jpg', '3259002340_707ce96858.jpg', '3259666643_ae49524c81.jpg', '3259991972_fce3ab18b2.jpg', '3262075846_5695021d84.jpg', '3263395801_5e4cee2b9e.jpg', '3263497678_8bb688ca01.jpg', '326456451_effadbbe49.jpg', '3270691950_88583c3524.jpg', '327415627_6313d32a64.jpg', '3275704430_a75828048f.jpg', '3280052365_c4644bf0a5.jpg', '3281078518_630a7a7f4f.jpg', '3285993030_87b0f1d202.jpg', '3286822339_5535af6b93.jpg', '3287549827_04dec6fb6e.jpg', '3290105461_7590f23371.jpg', '3294209955_a1f1e2cc19.jpg', '3295391572_cbfde03a10.jpg', '3295680663_af21ea648b.jpg', '3299820401_c2589186c5.jpg', '3301811927_a2797339e5.jpg', '3301859683_2d5e4b40a3.jpg', '3310067561_b92017acab.jpg', '3315616181_15dd137e27.jpg', '3316725440_9ccd9b5417.jpg', '3317073508_7e13565c1b.jpg', '3320032226_63390d74a6.jpg', '3320356356_1497e53f80.jpg', '3323988406_e3c8fce690.jpg', '3325497914_f9014d615b.jpg', '3328646934_5cca4cebce.jpg', '3332467180_d72f9b067d.jpg', '3333921867_6cc7d7c73d.jpg', '3334537556_a2cf4e9b9a.jpg', '3339140382_2e49bc324a.jpg', '3344233740_c010378da7.jpg', '3347666612_659e6e2207.jpg', '3347798761_5c5260b000.jpg', '3348385580_10b53391f9.jpg', '3349451628_4249a21c8f.jpg', '3350786891_6d39b234e9.jpg', '3353036763_4cbeba03b2.jpg', '3354330935_de75be9d2f.jpg', '3354883962_170d19bfe4.jpg', '3358558292_6ab14193ed.jpg', '3358682439_be4b83544c.jpg', '3359530430_249f51972c.jpg', '3359551687_68f2f0212a.jpg', '3360930596_1e75164ce6.jpg', '3361990489_92244a58ef.jpg', '3363750526_efcedc47a9.jpg', '3364026240_645d533fda.jpg', '3364151356_eecd07a23e.jpg', '3364861247_d590fa170d.jpg', '3365783912_e12c3510d8.jpg', '3375070563_3c290a7991.jpg', '3375549004_beee810e60.jpg', '3375991133_87d7c40925.jpg', '3384314832_dffc944152.jpg', '3385246141_a263d1053e.jpg', '3385593926_d3e9c21170.jpg', '3387542157_81bfd00072.jpg', '3388330419_85d72f7cda.jpg', '3393343330_b13df4d8ec.jpg', '339350939_6643bfb270.jpg', '3393926562_66cc01b001.jpg', '3396157719_6807d52a81.jpg', '339658315_fbb178c252.jpg', '3397220683_4aca010f86.jpg', '3398746625_5199beea71.jpg', '3399284917_721aefe2a7.jpg', '3406930103_4db7b4dde0.jpg', '3411393875_a9ff73c67a.jpg', '3413571342_b9855795e2.jpg', '3416091866_a96003d652.jpg', '3421789737_f625dd17ed.jpg', '3422458549_f3f3878dbf.jpg', '3424424006_98f9d1921c.jpg', '3425835357_204e620a66.jpg', '3425851292_de92a072ee.jpg', '3427118504_93126c83e0.jpg', '3427233064_6af01bfc5c.jpg', '3429956016_3c7e3096c2.jpg', '3430607596_7e4f74e3ff.jpg', '343218198_1ca90e0734.jpg', '3432550415_e7b77232de.jpg', '3433982387_3fa993cf5a.jpg', '3435035138_af32890a4c.jpg', '3436063693_15c8d377a2.jpg', '3437147889_4cf26dd525.jpg', '3437654963_c4fdc17e8b.jpg', '3439382048_d2e23b2b4c.jpg', '3442242092_e579538d82.jpg', '3449114979_6cdc3e8da8.jpg', '3450874870_c4dcf58fb3.jpg', '3452127051_fa54a902b3.jpg', '3453259666_9ecaa8bb4b.jpg', '3456362961_d8f7e347a8.jpg', '3457045393_2bbbb4e941.jpg', '3458211052_bb73084398.jpg', '3458559770_12cf9f134e.jpg', '3459156091_c1879ebe28.jpg', '3461041826_0e24cdf597.jpg', '3462454965_a481809cea.jpg', '3467219837_7d62213dec.jpg', '3468694409_a51571d621.jpg', '3470951932_27ed74eb0b.jpg', '3471841031_a949645ba8.jpg', '3472364264_dbde5a8d0a.jpg', '3473264983_67917a931f.jpg', '3474406285_01f3d24b71.jpg', '3477715432_79d82487bb.jpg', '3480051754_18e5802558.jpg', '3482062809_3b694322c4.jpg', '3482974845_db4f16befa.jpg', '348380010_33bb0599ef.jpg', '3484649669_7bfe62080b.jpg', '3484832904_08619300d9.jpg', '3485425825_c2f3446e73.jpg', '3490736665_38710f4b91.jpg', '3494394662_3edfd4a34c.jpg', '3497224764_6e17544e0d.jpg', '3498327617_d2e3db3ee3.jpg', '3498997518_c2b16f0a0e.jpg', '3499720588_c32590108e.jpg', '3500136982_bf7a85531e.jpg', '3502343542_f9b46688e5.jpg', '3502993968_4ee36afb0e.jpg', '3503623999_bbd5dcfb18.jpg', '3503689049_63212220be.jpg', '350443876_c9769f5734.jpg', '3504881781_6a842e043b.jpg', '3506468593_7e41a6d9f1.jpg', '3506560025_8d0f4f9ac4.jpg', '3507076266_8b17993fbb.jpg', '3514019869_7de4ece2a5.jpg', '3514179514_cbc3371b92.jpg', '3516825206_5750824874.jpg', '3518126579_e70e0cbb2b.jpg', '3521374954_37371b49a4.jpg', '3523471597_87e0bf3b21.jpg', '3523474077_16e14bc54c.jpg', '3523559027_a65619a34b.jpg', '352382023_7605223d1c.jpg', '3523874798_9ba2fa46e3.jpg', '352981175_16ff5c07e4.jpg', '3530843182_35af2c821c.jpg', '353180303_6a24179c50.jpg', '3532205154_5674b628ea.jpg', '3537400880_8f410d747d.jpg', '3538213870_9856a76b2a.jpg', '3539767254_c598b8e6c7.jpg', '3540416981_4e74f08cbb.jpg', '3541474181_489f19fae7.jpg', '3542484764_77d8920ec9.jpg', '3544793763_b38546a5e8.jpg', '3545586120_283d728a97.jpg', '3545652636_0746537307.jpg', '354642192_3b7666a2dd.jpg', '3549583146_3e8bb2f7e9.jpg', '3554634863_5f6f616639.jpg', '3556598205_86c180769d.jpg', '3558370311_5734a15890.jpg', '3562050678_4196a7fff3.jpg', '3564312955_716e86c48b.jpg', '3564543247_05cdbc31cf.jpg', '3565598162_56044bc2f7.jpg', '3567061016_62768dcce1.jpg', '3568197730_a071d7595b.jpg', '3569406219_f37ebf7b92.jpg', '3569979711_6507841268.jpg', '3571147934_d1c8af1d6e.jpg', '3572267708_9d8a81d4a4.jpg', '3576259024_9c05b163aa.jpg', '3578841731_f775cab089.jpg', '3578914491_36019ba703.jpg', '3582742297_1daa29968e.jpg', '3584534971_b44f82c4b9.jpg', '3584561689_b6eb24dd70.jpg', '3584930205_a3f58a4b7c.jpg', '3585487286_ef9a8d4c56.jpg', '3585598356_8ce815bbb9.jpg', '3589367895_5d3729e3ea.jpg', '3589895574_ee08207d26.jpg', '3591458156_f1a9a33918.jpg', '3591462960_86045906bd.jpg', '3592968286_b63c81bcd2.jpg', '3592992234_6d3fe58a70.jpg', '3593392955_a4125087f6.jpg', '3595643050_d312e4b652.jpg', '3596131692_91b8a05606.jpg', '3597326009_3678a98a43.jpg', '359837950_9e22ffe6c2.jpg', '3601843201_4809e66909.jpg', '3602838407_bf13e49243.jpg', '3605061440_1d08c80a57.jpg', '3605676864_0fb491267e.jpg', '3609032038_005c789f64.jpg', '3609645320_815c294b65.jpg', '3610683688_bbe6d725ed.jpg', '3613424631_3ae537624f.jpg', '3613800013_5a54968ab0.jpg', '3613955682_3860e116cf.jpg', '3619416477_9d18580a14.jpg', '3624327440_bef4f33f32.jpg', '3627011534_485f667b10.jpg', '3630332976_fdba22c50b.jpg', '3630641436_8f9ac5b9b2.jpg', '3631986552_944ea208fc.jpg', '3635577874_48ebaac734.jpg', '363617160_6cb0c723be.jpg', '3639967449_137f48b43d.jpg', '3640422448_a0f42e4559.jpg', '3641022607_e7a5455d6c.jpg', '3642220260_3aa8a52670.jpg', '3647750811_395fbd397e.jpg', '3651971126_309e6a5e22.jpg', '3655074079_7df3812bc5.jpg', '3655155990_b0e201dd3c.jpg', '3655964639_21e76383d0.jpg', '3657016761_d553e514d9.jpg', '3658427967_6e2e57458d.jpg', '3670907052_c827593564.jpg', '3673165148_67f217064f.jpg', '3677318686_b018862bb7.jpg', '3685328542_ab999b83bb.jpg', '3686924335_3c51e8834a.jpg', '3688858505_e8afd1475d.jpg', '3692593096_fbaea67476.jpg', '3692892751_f6574e2700.jpg', '3694064560_467683205b.jpg', '3694093650_547259731e.jpg', '3694991841_141804da1f.jpg', '3696698390_989f1488e7.jpg', '3697359692_8a5cdbe4fe.jpg', '3701291852_373ea46bb6.jpg', '3702436188_2c26192fd0.jpg', '370614351_98b8a166b9.jpg', '370713359_7560808550.jpg', '3708177171_529bb4ff1d.jpg', '3715469645_6d1dc019b3.jpg', '3716244806_97d5a1fb61.jpg', '3718964174_cb2dc1615e.jpg', '3720366614_dfa8fe1088.jpg', '3725202807_12fbfdd207.jpg', '3727752439_907795603b.jpg', '3729525173_7f984ed776.jpg', '373394550_1b2296b8c4.jpg', '3737539561_d1dc161040.jpg', '3741462565_cc35966b7a.jpg', '3741827382_71e93298d0.jpg', '3745451546_fc8ec70cbd.jpg', '375392855_54d46ed5c8.jpg', '3767841911_6678052eb6.jpg', '384577800_fc325af410.jpg', '387830531_e89c192b92.jpg', '391579205_c8373b5411.jpg', '396360611_941e5849a3.jpg', '398662202_97e5819b79.jpg', '400851260_5911898657.jpg', '401079494_562454c4d6.jpg', '405615014_03be7ef618.jpg', '410453140_5401bf659a.jpg', '415793623_6c1225ae27.jpg', '416106657_cab2a107a5.jpg', '416788726_5b4eb1466e.jpg', '416960865_048fd3f294.jpg', '421322723_3470543368.jpg', '421730441_6b2267fd31.jpg', '422763475_0bc814dac6.jpg', '424416723_19c56cb365.jpg', '424779662_568f9606d0.jpg', '429851331_b248ca01cd.jpg', '430173345_86388d8822.jpg', '434792818_56375e203f.jpg', '435827376_4384c3005a.jpg', '436009777_440c7679a1.jpg', '439037721_cdf1fc7358.jpg', '444057017_f1e0fcaef7.jpg', '444481722_690d0cadcf.jpg', '447111935_5af98563e3.jpg', '448252603_7d928c900e.jpg', '448658518_eec0b648a6.jpg', '452419961_6d42ab7000.jpg', '460935487_75b2da7854.jpg', '461505235_590102a5bf.jpg', '463978865_c87c6ca84c.jpg', '464251704_b0f0c4c87a.jpg', '466956209_2ffcea3941.jpg', '468102269_135938e209.jpg', '468310111_d9396abcbd.jpg', '468608014_09fd20eb9b.jpg', '470373679_98dceb19e7.jpg', '473220329_819a913bbb.jpg', '476233374_e1396998ef.jpg', '476759700_8911f087f8.jpg', '480505313_2dc686e5db.jpg', '485245061_5a5de43e20.jpg', '486712504_36be449055.jpg', '486917990_72bd4069af.jpg', '488356951_b3b77ad832.jpg', '488408004_a1e26d4886.jpg', '488590040_35a3e96c89.jpg', '491405109_798222cfd0.jpg', '493109089_468e105233.jpg', '493621130_152bdd4e91.jpg', '494792770_2c5f767ac0.jpg', '494921598_af73bda568.jpg', '496110746_a93ca191ae.jpg', '497791037_93499238d8.jpg', '498444334_a680d318a1.jpg', '500446858_125702b296.jpg', '505929313_7668f021ab.jpg', '506367606_7cca2bba9b.jpg', '506738508_327efdf9c3.jpg', '509123893_07b8ea82a9.jpg', '509778093_21236bb64d.jpg', '510531976_90bbee22a2.jpg', '512101751_05a6d93e19.jpg', '514990193_2d2422af2c.jpg', '522063319_33827f1627.jpg', '523985664_c866af4850.jpg', '524105255_b346f288be.jpg', '524282699_71e678a6bd.jpg', '525863257_053333e612.jpg', '53043785_c468d6f931.jpg', '532457586_bddfc5251d.jpg', '533483374_86c5d4c13e.jpg', '533713007_bf9f3e25b4.jpg', '533979933_a95b03323b.jpg', '534875358_6ea30d3091.jpg', '535830521_aa971319fc.jpg', '537532165_e4b7c0e61a.jpg', '537559285_29be110134.jpg', '539751252_2bd88c456b.jpg', '540721368_12ac732c6c.jpg', '541063517_35044c554a.jpg', '542179694_e170e9e465.jpg', '542317719_ed4dd95dc2.jpg', '543007912_23fc735b99.jpg', '544576742_283b65fa0d.jpg', '54501196_a9ac9d66f2.jpg', '561417861_8e25d0c0e8.jpg', '561940436_64d6fc125d.jpg', '56489627_e1de43de34.jpg', '566397227_a469e9e415.jpg', '57422853_b5f6366081.jpg', '583174725_6b522b621f.jpg', '624742559_ff467d8ebc.jpg', '670609997_5c7fdb3f0b.jpg', '700884207_d3ec546494.jpg', '70995350_75d0698839.jpg', '732468337_a37075225e.jpg', '745880539_cd3f948837.jpg', '747921928_48eb02aab2.jpg', '751109943_2a7f8e117f.jpg', '751737218_b89839a311.jpg', '754852108_72f80d421f.jpg', '757046028_ff5999f91b.jpg', '757332692_6866ae545c.jpg', '758921886_55a351dd67.jpg', '766099402_cdda6964f0.jpg', '771048251_602e5e8f45.jpg', '791338571_7f38510bf7.jpg', '799486353_f665d7b0f0.jpg', '801607443_f15956d1ce.jpg', '820169182_f5e78d7d19.jpg', '86412576_c53392ef80.jpg', '872622575_ba1d3632cc.jpg', '880220939_0ef1c37f1f.jpg', '888425986_e4b6c12324.jpg', '909191414_1cf5d85821.jpg', '909808296_23c427022d.jpg', '917574521_74fab68514.jpg', '925491651_57df3a5b36.jpg', '929679367_ff8c7df2ee.jpg', '96420612_feb18fc6c6.jpg', '968081289_cdba83ce2e.jpg', '979383193_0a542a059d.jpg', '997722733_0cb5439472.jpg'])"
      ]
     },
     "execution_count": 122,
     "metadata": {},
     "output_type": "execute_result"
    }
   ],
   "source": [
    "encoding_test.keys()\n"
   ]
  },
  {
   "cell_type": "code",
   "execution_count": 139,
   "metadata": {},
   "outputs": [
    {
     "data": {
      "text/plain": [
       "'106490881_5a2dd9b7bd.jpg'"
      ]
     },
     "execution_count": 139,
     "metadata": {},
     "output_type": "execute_result"
    }
   ],
   "source": [
    "list(encoding_test.keys())[1]"
   ]
  },
  {
   "cell_type": "code",
   "execution_count": 140,
   "metadata": {},
   "outputs": [
    {
     "data": {
      "image/png": "[encoded data removed]",
      "text/plain": [
       "<Figure size 432x288 with 1 Axes>"
      ]
     },
     "metadata": {
      "needs_background": "light"
     },
     "output_type": "display_data"
    },
    {
     "name": "stdout",
     "output_type": "stream",
     "text": [
      "Greedy: boy in swim trunks is jumping into the water\n"
     ]
    }
   ],
   "source": [
    "\n",
    "pic = list(encoding_test.keys())[1]\n",
    "image = encoding_test[pic].reshape((1,2048))\n",
    "x=plt.imread(\"Flickr8k_Dataset/106490881_5a2dd9b7bd.jpg\")\n",
    "plt.imshow(x)\n",
    "plt.show()\n",
    "print(\"Greedy:\",greedySearch(image))"
   ]
  },
  {
   "cell_type": "code",
   "execution_count": null,
   "metadata": {},
   "outputs": [],
   "source": []
  },
  {
   "cell_type": "code",
   "execution_count": null,
   "metadata": {},
   "outputs": [],
   "source": []
  },
  {
   "cell_type": "code",
   "execution_count": null,
   "metadata": {},
   "outputs": [],
   "source": []
  }
 ],
 "metadata": {
  "kernelspec": {
   "display_name": "Python 3",
   "language": "python",
   "name": "python3"
  },
  "language_info": {
   "codemirror_mode": {
    "name": "ipython",
    "version": 3
   },
   "file_extension": ".py",
   "mimetype": "text/x-python",
   "name": "python",
   "nbconvert_exporter": "python",
   "pygments_lexer": "ipython3",
   "version": "3.7.4"
  }
 },
 "nbformat": 4,
 "nbformat_minor": 2
}
